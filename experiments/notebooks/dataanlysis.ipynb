{
 "cells": [
  {
   "cell_type": "code",
   "execution_count": 15,
   "metadata": {},
   "outputs": [],
   "source": [
    "import pandas as pdi\n",
    "import matplotlib.pylab as plt \n",
    "import numpy as np\n",
    "%matplotlib inline"
   ]
  },
  {
   "cell_type": "code",
   "execution_count": 2,
   "metadata": {},
   "outputs": [],
   "source": [
    "train_data = pd.read_csv('../dataset/tahmostation2016.csv')\n",
    "odm = pd.read_csv('../dataset/mesonet_2008.csv')"
   ]
  },
  {
   "cell_type": "code",
   "execution_count": 4,
   "metadata": {},
   "outputs": [],
   "source": [
    "t_station = \"TA00021\"\n",
    "k_station = [\"TA00020\",\"TA00025\",\"TA00057\",\"TA00066\",\"TA00024\"]\n"
   ]
  },
  {
   "cell_type": "code",
   "execution_count": 72,
   "metadata": {},
   "outputs": [],
   "source": [
    "d_stn = \"ALTU\"\n",
    "ok_station = [\"TIPT\",\"MANG\",\"HOLL\",\"HOBA\",\"RETR\"]"
   ]
  },
  {
   "cell_type": "code",
   "execution_count": 6,
   "metadata": {},
   "outputs": [],
   "source": [
    "thm = train_data[[t_station]+k_station]"
   ]
  },
  {
   "cell_type": "code",
   "execution_count": 67,
   "metadata": {},
   "outputs": [],
   "source": [
    "def rain_day_events(station, dt, thresh = 5.0):\n",
    "    #rainy_readings = dt[dt[station]> thresh]\n",
    "    rainy_days = np.where(dt[station]> thresh)\n",
    "    return rainy_days\n"
   ]
  },
  {
   "cell_type": "code",
   "execution_count": 73,
   "metadata": {},
   "outputs": [],
   "source": [
    "vect = odm[[d_stn] + ok_station]"
   ]
  },
  {
   "cell_type": "code",
   "execution_count": 74,
   "metadata": {},
   "outputs": [
    {
     "data": {
      "text/html": [
       "<div>\n",
       "<style scoped>\n",
       "    .dataframe tbody tr th:only-of-type {\n",
       "        vertical-align: middle;\n",
       "    }\n",
       "\n",
       "    .dataframe tbody tr th {\n",
       "        vertical-align: top;\n",
       "    }\n",
       "\n",
       "    .dataframe thead th {\n",
       "        text-align: right;\n",
       "    }\n",
       "</style>\n",
       "<table border=\"1\" class=\"dataframe\">\n",
       "  <thead>\n",
       "    <tr style=\"text-align: right;\">\n",
       "      <th></th>\n",
       "      <th>ALTU</th>\n",
       "      <th>TIPT</th>\n",
       "      <th>MANG</th>\n",
       "      <th>HOLL</th>\n",
       "      <th>HOBA</th>\n",
       "      <th>RETR</th>\n",
       "    </tr>\n",
       "  </thead>\n",
       "  <tbody>\n",
       "    <tr>\n",
       "      <th>0</th>\n",
       "      <td>0.0</td>\n",
       "      <td>0.0</td>\n",
       "      <td>0.0</td>\n",
       "      <td>0.0</td>\n",
       "      <td>0.0</td>\n",
       "      <td>0.0</td>\n",
       "    </tr>\n",
       "    <tr>\n",
       "      <th>1</th>\n",
       "      <td>0.0</td>\n",
       "      <td>0.0</td>\n",
       "      <td>0.0</td>\n",
       "      <td>0.0</td>\n",
       "      <td>0.0</td>\n",
       "      <td>0.0</td>\n",
       "    </tr>\n",
       "    <tr>\n",
       "      <th>2</th>\n",
       "      <td>0.0</td>\n",
       "      <td>0.0</td>\n",
       "      <td>0.0</td>\n",
       "      <td>0.0</td>\n",
       "      <td>0.0</td>\n",
       "      <td>0.0</td>\n",
       "    </tr>\n",
       "    <tr>\n",
       "      <th>3</th>\n",
       "      <td>0.0</td>\n",
       "      <td>0.0</td>\n",
       "      <td>0.0</td>\n",
       "      <td>0.0</td>\n",
       "      <td>0.0</td>\n",
       "      <td>0.0</td>\n",
       "    </tr>\n",
       "    <tr>\n",
       "      <th>4</th>\n",
       "      <td>0.0</td>\n",
       "      <td>0.0</td>\n",
       "      <td>0.0</td>\n",
       "      <td>0.0</td>\n",
       "      <td>0.0</td>\n",
       "      <td>0.0</td>\n",
       "    </tr>\n",
       "  </tbody>\n",
       "</table>\n",
       "</div>"
      ],
      "text/plain": [
       "   ALTU  TIPT  MANG  HOLL  HOBA  RETR\n",
       "0   0.0   0.0   0.0   0.0   0.0   0.0\n",
       "1   0.0   0.0   0.0   0.0   0.0   0.0\n",
       "2   0.0   0.0   0.0   0.0   0.0   0.0\n",
       "3   0.0   0.0   0.0   0.0   0.0   0.0\n",
       "4   0.0   0.0   0.0   0.0   0.0   0.0"
      ]
     },
     "execution_count": 74,
     "metadata": {},
     "output_type": "execute_result"
    }
   ],
   "source": [
    "vect.head(5)"
   ]
  },
  {
   "cell_type": "code",
   "execution_count": 86,
   "metadata": {},
   "outputs": [
    {
     "name": "stdout",
     "output_type": "stream",
     "text": [
      "(array([ 46,  47,  61,  62,  63,  76,  77,  78,  99, 100, 101, 113, 114,\n",
      "       117, 118, 126, 127, 128, 134, 135, 136, 147, 148, 157, 158, 160,\n",
      "       161, 166, 167, 168, 169, 170, 171, 172, 179, 180, 190, 191, 193,\n",
      "       194, 195, 210, 211, 220, 221, 223, 224, 227, 228, 230, 231, 232,\n",
      "       251, 252, 253, 254, 255, 256, 279, 280, 286, 287, 288, 289]),) 64\n"
     ]
    }
   ],
   "source": [
    "thresh = 1.0\n",
    "events = rain_day_events(d_stn, vect, thresh)\n",
    "print events,len(events[0])\n"
   ]
  },
  {
   "cell_type": "code",
   "execution_count": 87,
   "metadata": {},
   "outputs": [
    {
     "data": {
      "text/plain": [
       "[<matplotlib.lines.Line2D at 0x7f05beaf9050>]"
      ]
     },
     "execution_count": 87,
     "metadata": {},
     "output_type": "execute_result"
    },
    {
     "data": {
      "image/png": "[encoded data removed]",
      "text/plain": [
       "<matplotlib.figure.Figure at 0x7f05bea28610>"
      ]
     },
     "metadata": {},
     "output_type": "display_data"
    }
   ],
   "source": [
    "plt.plot(vect[d_stn][events[0]], '.')"
   ]
  },
  {
   "cell_type": "code",
   "execution_count": 114,
   "metadata": {},
   "outputs": [
    {
     "name": "stdout",
     "output_type": "stream",
     "text": [
      "(array([ 10,  12,  13,  14,  16,  17,  18,  19,  41,  42,  67,  68,  76,\n",
      "        77,  81,  89,  90,  91,  92,  93,  94,  95,  98, 100, 102, 104,\n",
      "       105, 107, 108, 109, 110, 113, 116, 117, 119, 120, 121, 122, 123,\n",
      "       124, 126, 127, 130, 131, 132, 133, 140, 141, 144, 147, 165, 166,\n",
      "       167, 168, 169, 170, 171, 172, 173, 174, 175, 176, 178, 182, 186,\n",
      "       190, 192, 193, 194, 195, 198, 199, 202, 203, 204, 205, 207, 210,\n",
      "       211, 215, 217, 218, 220, 252, 255, 257, 259, 260, 262, 263, 264,\n",
      "       267, 269, 270, 275, 276, 278, 294, 295, 296, 297, 330]),) (102,)\n"
     ]
    }
   ],
   "source": [
    "thresh = 1.0\n",
    "thm_r = thm[thm.TA00021> thresh]\n",
    "rainy_days = np.where(thm.TA00021>thresh)\n",
    "print rainy_days, rainy_days[0].shape"
   ]
  },
  {
   "cell_type": "code",
   "execution_count": 115,
   "metadata": {},
   "outputs": [
    {
     "data": {
      "text/plain": [
       "(array([ 10,  13,  14,  17,  18,  41,  67,  68,  77,  81,  90,  91,  92,\n",
       "         94,  98, 100, 102, 104, 107, 108, 109, 110, 113, 116, 119, 120,\n",
       "        121, 126, 127, 130, 131, 140, 141, 144, 147, 165, 166, 168, 170,\n",
       "        171, 172, 173, 174, 176, 178, 190, 192, 193, 194, 199, 202, 203,\n",
       "        204, 205, 207, 211, 218, 220, 255, 260, 262, 263, 264, 267, 269,\n",
       "        275, 278, 296, 330]),)"
      ]
     },
     "execution_count": 115,
     "metadata": {},
     "output_type": "execute_result"
    }
   ],
   "source": [
    "rain_day_events(t_station, thm)"
   ]
  },
  {
   "cell_type": "code",
   "execution_count": 116,
   "metadata": {},
   "outputs": [
    {
     "name": "stdout",
     "output_type": "stream",
     "text": [
      "102\n"
     ]
    },
    {
     "data": {
      "text/plain": [
       "[<matplotlib.lines.Line2D at 0x7f05be3e0090>]"
      ]
     },
     "execution_count": 116,
     "metadata": {},
     "output_type": "execute_result"
    },
    {
     "data": {
      "image/png": "[encoded data removed]",
      "text/plain": [
       "<matplotlib.figure.Figure at 0x7f05beb01810>"
      ]
     },
     "metadata": {},
     "output_type": "display_data"
    }
   ],
   "source": [
    "rain_events = (thm.TA00021> thresh)\n",
    "count_events = np.count_nonzero(rain_events)\n",
    "print count_events\n",
    "plt.plot(rain_events, '.r')"
   ]
  },
  {
   "cell_type": "code",
   "execution_count": 117,
   "metadata": {},
   "outputs": [
    {
     "data": {
      "text/plain": [
       "(0.5, 40)"
      ]
     },
     "execution_count": 117,
     "metadata": {},
     "output_type": "execute_result"
    },
    {
     "data": {
      "image/png": "[encoded data removed]",
      "text/plain": [
       "<matplotlib.figure.Figure at 0x7f05be34ffd0>"
      ]
     },
     "metadata": {},
     "output_type": "display_data"
    }
   ],
   "source": [
    "plt.plot(thm.TA00021[rainy_days[0]],'.b')\n",
    "plt.ylim([0.5,40])\n"
   ]
  },
  {
   "cell_type": "code",
   "execution_count": 94,
   "metadata": {},
   "outputs": [],
   "source": [
    "ix = rainy_days[0]"
   ]
  },
  {
   "cell_type": "code",
   "execution_count": 118,
   "metadata": {},
   "outputs": [],
   "source": [
    "series = thm.TA00021.as_matrix()\n",
    "from collections import defaultdict"
   ]
  },
  {
   "cell_type": "code",
   "execution_count": 119,
   "metadata": {},
   "outputs": [
    {
     "data": {
      "text/plain": [
       "(array([ 10,  12,  13,  14,  16,  17,  18,  19,  41,  42,  67,  68,  76,\n",
       "         77,  81,  89,  90,  91,  92,  93,  94,  95,  98, 100, 102, 104,\n",
       "        105, 107, 108, 109, 110, 113, 116, 117, 119, 120, 121, 122, 123,\n",
       "        124, 126, 127, 130, 131, 132, 133, 140, 141, 144, 147, 165, 166,\n",
       "        167, 168, 169, 170, 171, 172, 173, 174, 175, 176, 178, 182, 186,\n",
       "        190, 192, 193, 194, 195, 198, 199, 202, 203, 204, 205, 207, 210,\n",
       "        211, 215, 217, 218, 220, 252, 255, 257, 259, 260, 262, 263, 264,\n",
       "        267, 269, 270, 275, 276, 278, 294, 295, 296, 297, 330]),)"
      ]
     },
     "execution_count": 119,
     "metadata": {},
     "output_type": "execute_result"
    }
   ],
   "source": [
    "rainy_days"
   ]
  },
  {
   "cell_type": "code",
   "execution_count": 136,
   "metadata": {},
   "outputs": [],
   "source": [
    "group = defaultdict(int)\n",
    "group_num = []\n",
    "g = 0\n",
    "filter_length = 2\n",
    "for i, ix in enumerate(series):\n",
    "    if ix>thresh:\n",
    "        group_num.append(i)\n",
    "    else:\n",
    "        if len(group_num)>0:\n",
    "            group[g] = group_num\n",
    "            group_num = []\n",
    "            g +=1\n",
    "if filter_length>1:\n",
    "    group = { key:value for key, value in group.iteritems() if len(value)>filter_length}\n",
    "\n"
   ]
  },
  {
   "cell_type": "code",
   "execution_count": 137,
   "metadata": {},
   "outputs": [
    {
     "data": {
      "text/plain": [
       "{1: [12, 13, 14],\n",
       " 2: [16, 17, 18, 19],\n",
       " 7: [89, 90, 91, 92, 93, 94, 95],\n",
       " 12: [107, 108, 109, 110],\n",
       " 15: [119, 120, 121, 122, 123, 124],\n",
       " 17: [130, 131, 132, 133],\n",
       " 21: [165, 166, 167, 168, 169, 170, 171, 172, 173, 174, 175, 176],\n",
       " 26: [192, 193, 194, 195],\n",
       " 28: [202, 203, 204, 205],\n",
       " 38: [262, 263, 264],\n",
       " 43: [294, 295, 296, 297]}"
      ]
     },
     "execution_count": 137,
     "metadata": {},
     "output_type": "execute_result"
    }
   ],
   "source": [
    "group"
   ]
  },
  {
   "cell_type": "code",
   "execution_count": 21,
   "metadata": {},
   "outputs": [],
   "source": [
    "import pyad\n",
    "import numpy as np"
   ]
  },
  {
   "cell_type": "code",
   "execution_count": 44,
   "metadata": {},
   "outputs": [
    {
     "name": "stdout",
     "output_type": "stream",
     "text": [
      "Number of samples cann't be greater than sample size,then data will be used\n"
     ]
    }
   ],
   "source": [
    "ff = pyad.IsolationForest(thm_r.as_matrix(), ntree=100)"
   ]
  },
  {
   "cell_type": "code",
   "execution_count": 46,
   "metadata": {},
   "outputs": [],
   "source": [
    "score  = ff.score(thm_r.as_matrix())"
   ]
  },
  {
   "cell_type": "code",
   "execution_count": 47,
   "metadata": {},
   "outputs": [],
   "source": [
    "iscore = np.argsort(score)"
   ]
  },
  {
   "cell_type": "code",
   "execution_count": 48,
   "metadata": {},
   "outputs": [
    {
     "data": {
      "text/plain": [
       "array([142, 135, 131, 127, 118,  39,  90,   1, 132, 126, 125,  89,   0,\n",
       "       106,  26,  51, 141,  15,  86,  36,  91,  14, 111, 110, 103,  76,\n",
       "        29,  17,  68, 171, 172,  75,  13, 128,  25, 174, 119,  38, 105,\n",
       "        37,  47,  87,  27,  77,  92,  59,  46, 114,  49, 107,  16, 117,\n",
       "       115, 102, 165,   8, 124, 160, 112, 104, 109,   2,  82, 180,  84,\n",
       "        24, 175, 108, 134,  88, 164, 100, 113,  85, 159, 133,  23,  28,\n",
       "       101, 168, 156, 158,  30, 166, 130, 139, 178,  96,  12, 122, 176,\n",
       "       170, 163, 116, 147, 173,  74,  99, 161,  50,  31, 167, 120, 179,\n",
       "        67,  33,  69,  20,  83,  11, 123,  58, 140, 154, 136,  45, 121,\n",
       "       149,  48, 169, 157, 162, 155, 151, 137, 143, 153, 144, 152,  97,\n",
       "        72,  19,  93, 129,   3,  81, 146,  95, 177,  44,   9,  32, 138,\n",
       "        35,  94,  10,  42,  98,  70,   5, 150, 145,  56, 148,  53,  65,\n",
       "        55,  62,  57,   4,  66,  18,  40,  54,  60,  52,  34,  73,   7,\n",
       "        79,  80,  21,  61,  78,  71,  22,  43,  64,  63,  41,   6])"
      ]
     },
     "execution_count": 48,
     "metadata": {},
     "output_type": "execute_result"
    }
   ],
   "source": [
    "iscore"
   ]
  },
  {
   "cell_type": "code",
   "execution_count": 49,
   "metadata": {},
   "outputs": [],
   "source": [
    "sortedd = thm_r.iloc[iscore]"
   ]
  },
  {
   "cell_type": "code",
   "execution_count": 50,
   "metadata": {},
   "outputs": [
    {
     "data": {
      "text/html": [
       "<div>\n",
       "<style scoped>\n",
       "    .dataframe tbody tr th:only-of-type {\n",
       "        vertical-align: middle;\n",
       "    }\n",
       "\n",
       "    .dataframe tbody tr th {\n",
       "        vertical-align: top;\n",
       "    }\n",
       "\n",
       "    .dataframe thead th {\n",
       "        text-align: right;\n",
       "    }\n",
       "</style>\n",
       "<table border=\"1\" class=\"dataframe\">\n",
       "  <thead>\n",
       "    <tr style=\"text-align: right;\">\n",
       "      <th></th>\n",
       "      <th>TA00020</th>\n",
       "      <th>TA00025</th>\n",
       "      <th>TA00057</th>\n",
       "      <th>TA00066</th>\n",
       "      <th>TA00024</th>\n",
       "    </tr>\n",
       "  </thead>\n",
       "  <tbody>\n",
       "    <tr>\n",
       "      <th>311</th>\n",
       "      <td>0.04</td>\n",
       "      <td>0.00</td>\n",
       "      <td>0.00</td>\n",
       "      <td>0.00</td>\n",
       "      <td>0.00</td>\n",
       "    </tr>\n",
       "    <tr>\n",
       "      <th>303</th>\n",
       "      <td>0.04</td>\n",
       "      <td>0.00</td>\n",
       "      <td>0.00</td>\n",
       "      <td>0.00</td>\n",
       "      <td>0.00</td>\n",
       "    </tr>\n",
       "    <tr>\n",
       "      <th>299</th>\n",
       "      <td>0.04</td>\n",
       "      <td>0.00</td>\n",
       "      <td>0.00</td>\n",
       "      <td>0.00</td>\n",
       "      <td>0.00</td>\n",
       "    </tr>\n",
       "    <tr>\n",
       "      <th>287</th>\n",
       "      <td>0.04</td>\n",
       "      <td>0.00</td>\n",
       "      <td>0.00</td>\n",
       "      <td>0.00</td>\n",
       "      <td>0.00</td>\n",
       "    </tr>\n",
       "    <tr>\n",
       "      <th>241</th>\n",
       "      <td>0.04</td>\n",
       "      <td>0.00</td>\n",
       "      <td>0.00</td>\n",
       "      <td>0.00</td>\n",
       "      <td>0.00</td>\n",
       "    </tr>\n",
       "    <tr>\n",
       "      <th>85</th>\n",
       "      <td>0.04</td>\n",
       "      <td>0.00</td>\n",
       "      <td>0.00</td>\n",
       "      <td>0.00</td>\n",
       "      <td>0.00</td>\n",
       "    </tr>\n",
       "    <tr>\n",
       "      <th>155</th>\n",
       "      <td>0.02</td>\n",
       "      <td>0.00</td>\n",
       "      <td>0.00</td>\n",
       "      <td>0.00</td>\n",
       "      <td>0.00</td>\n",
       "    </tr>\n",
       "    <tr>\n",
       "      <th>10</th>\n",
       "      <td>0.02</td>\n",
       "      <td>0.00</td>\n",
       "      <td>0.00</td>\n",
       "      <td>0.00</td>\n",
       "      <td>0.00</td>\n",
       "    </tr>\n",
       "    <tr>\n",
       "      <th>300</th>\n",
       "      <td>0.02</td>\n",
       "      <td>0.00</td>\n",
       "      <td>0.00</td>\n",
       "      <td>0.00</td>\n",
       "      <td>0.00</td>\n",
       "    </tr>\n",
       "    <tr>\n",
       "      <th>285</th>\n",
       "      <td>0.02</td>\n",
       "      <td>0.00</td>\n",
       "      <td>0.00</td>\n",
       "      <td>0.00</td>\n",
       "      <td>0.00</td>\n",
       "    </tr>\n",
       "    <tr>\n",
       "      <th>279</th>\n",
       "      <td>0.02</td>\n",
       "      <td>0.00</td>\n",
       "      <td>0.00</td>\n",
       "      <td>0.00</td>\n",
       "      <td>0.00</td>\n",
       "    </tr>\n",
       "    <tr>\n",
       "      <th>154</th>\n",
       "      <td>0.02</td>\n",
       "      <td>0.00</td>\n",
       "      <td>0.00</td>\n",
       "      <td>0.00</td>\n",
       "      <td>0.00</td>\n",
       "    </tr>\n",
       "    <tr>\n",
       "      <th>8</th>\n",
       "      <td>0.08</td>\n",
       "      <td>0.00</td>\n",
       "      <td>0.00</td>\n",
       "      <td>0.00</td>\n",
       "      <td>0.00</td>\n",
       "    </tr>\n",
       "    <tr>\n",
       "      <th>189</th>\n",
       "      <td>0.04</td>\n",
       "      <td>0.00</td>\n",
       "      <td>0.00</td>\n",
       "      <td>0.00</td>\n",
       "      <td>0.02</td>\n",
       "    </tr>\n",
       "    <tr>\n",
       "      <th>46</th>\n",
       "      <td>0.02</td>\n",
       "      <td>0.00</td>\n",
       "      <td>0.00</td>\n",
       "      <td>0.00</td>\n",
       "      <td>0.06</td>\n",
       "    </tr>\n",
       "    <tr>\n",
       "      <th>103</th>\n",
       "      <td>0.10</td>\n",
       "      <td>0.00</td>\n",
       "      <td>0.00</td>\n",
       "      <td>0.00</td>\n",
       "      <td>0.00</td>\n",
       "    </tr>\n",
       "    <tr>\n",
       "      <th>310</th>\n",
       "      <td>0.10</td>\n",
       "      <td>0.00</td>\n",
       "      <td>0.00</td>\n",
       "      <td>0.00</td>\n",
       "      <td>0.00</td>\n",
       "    </tr>\n",
       "    <tr>\n",
       "      <th>31</th>\n",
       "      <td>0.06</td>\n",
       "      <td>0.00</td>\n",
       "      <td>0.00</td>\n",
       "      <td>0.00</td>\n",
       "      <td>0.06</td>\n",
       "    </tr>\n",
       "    <tr>\n",
       "      <th>151</th>\n",
       "      <td>0.06</td>\n",
       "      <td>0.00</td>\n",
       "      <td>0.00</td>\n",
       "      <td>0.00</td>\n",
       "      <td>0.06</td>\n",
       "    </tr>\n",
       "    <tr>\n",
       "      <th>73</th>\n",
       "      <td>0.04</td>\n",
       "      <td>0.00</td>\n",
       "      <td>0.00</td>\n",
       "      <td>0.00</td>\n",
       "      <td>0.08</td>\n",
       "    </tr>\n",
       "    <tr>\n",
       "      <th>156</th>\n",
       "      <td>0.02</td>\n",
       "      <td>0.00</td>\n",
       "      <td>0.00</td>\n",
       "      <td>0.00</td>\n",
       "      <td>0.04</td>\n",
       "    </tr>\n",
       "    <tr>\n",
       "      <th>30</th>\n",
       "      <td>0.06</td>\n",
       "      <td>0.00</td>\n",
       "      <td>0.00</td>\n",
       "      <td>0.00</td>\n",
       "      <td>0.10</td>\n",
       "    </tr>\n",
       "    <tr>\n",
       "      <th>202</th>\n",
       "      <td>0.02</td>\n",
       "      <td>0.00</td>\n",
       "      <td>0.00</td>\n",
       "      <td>0.04</td>\n",
       "      <td>0.00</td>\n",
       "    </tr>\n",
       "    <tr>\n",
       "      <th>201</th>\n",
       "      <td>0.04</td>\n",
       "      <td>0.00</td>\n",
       "      <td>0.00</td>\n",
       "      <td>0.02</td>\n",
       "      <td>0.00</td>\n",
       "    </tr>\n",
       "    <tr>\n",
       "      <th>183</th>\n",
       "      <td>0.02</td>\n",
       "      <td>0.00</td>\n",
       "      <td>0.00</td>\n",
       "      <td>0.02</td>\n",
       "      <td>0.00</td>\n",
       "    </tr>\n",
       "    <tr>\n",
       "      <th>133</th>\n",
       "      <td>0.02</td>\n",
       "      <td>0.00</td>\n",
       "      <td>0.00</td>\n",
       "      <td>0.02</td>\n",
       "      <td>0.00</td>\n",
       "    </tr>\n",
       "    <tr>\n",
       "      <th>58</th>\n",
       "      <td>0.02</td>\n",
       "      <td>0.02</td>\n",
       "      <td>0.00</td>\n",
       "      <td>0.00</td>\n",
       "      <td>0.06</td>\n",
       "    </tr>\n",
       "    <tr>\n",
       "      <th>34</th>\n",
       "      <td>0.02</td>\n",
       "      <td>0.04</td>\n",
       "      <td>0.00</td>\n",
       "      <td>0.00</td>\n",
       "      <td>0.10</td>\n",
       "    </tr>\n",
       "    <tr>\n",
       "      <th>123</th>\n",
       "      <td>0.04</td>\n",
       "      <td>0.00</td>\n",
       "      <td>0.00</td>\n",
       "      <td>0.04</td>\n",
       "      <td>0.00</td>\n",
       "    </tr>\n",
       "    <tr>\n",
       "      <th>354</th>\n",
       "      <td>0.02</td>\n",
       "      <td>0.04</td>\n",
       "      <td>0.00</td>\n",
       "      <td>0.00</td>\n",
       "      <td>0.12</td>\n",
       "    </tr>\n",
       "    <tr>\n",
       "      <th>...</th>\n",
       "      <td>...</td>\n",
       "      <td>...</td>\n",
       "      <td>...</td>\n",
       "      <td>...</td>\n",
       "      <td>...</td>\n",
       "    </tr>\n",
       "    <tr>\n",
       "      <th>320</th>\n",
       "      <td>17.63</td>\n",
       "      <td>1.82</td>\n",
       "      <td>0.86</td>\n",
       "      <td>0.00</td>\n",
       "      <td>11.09</td>\n",
       "    </tr>\n",
       "    <tr>\n",
       "      <th>110</th>\n",
       "      <td>9.66</td>\n",
       "      <td>8.12</td>\n",
       "      <td>0.24</td>\n",
       "      <td>13.89</td>\n",
       "      <td>1.48</td>\n",
       "    </tr>\n",
       "    <tr>\n",
       "      <th>323</th>\n",
       "      <td>8.08</td>\n",
       "      <td>13.54</td>\n",
       "      <td>0.40</td>\n",
       "      <td>0.00</td>\n",
       "      <td>16.48</td>\n",
       "    </tr>\n",
       "    <tr>\n",
       "      <th>107</th>\n",
       "      <td>1.16</td>\n",
       "      <td>3.83</td>\n",
       "      <td>24.82</td>\n",
       "      <td>11.94</td>\n",
       "      <td>6.23</td>\n",
       "    </tr>\n",
       "    <tr>\n",
       "      <th>120</th>\n",
       "      <td>20.52</td>\n",
       "      <td>6.86</td>\n",
       "      <td>9.94</td>\n",
       "      <td>9.98</td>\n",
       "      <td>6.12</td>\n",
       "    </tr>\n",
       "    <tr>\n",
       "      <th>109</th>\n",
       "      <td>12.33</td>\n",
       "      <td>13.25</td>\n",
       "      <td>11.93</td>\n",
       "      <td>9.32</td>\n",
       "      <td>23.01</td>\n",
       "    </tr>\n",
       "    <tr>\n",
       "      <th>117</th>\n",
       "      <td>2.18</td>\n",
       "      <td>2.92</td>\n",
       "      <td>0.02</td>\n",
       "      <td>9.74</td>\n",
       "      <td>20.28</td>\n",
       "    </tr>\n",
       "    <tr>\n",
       "      <th>111</th>\n",
       "      <td>9.12</td>\n",
       "      <td>9.04</td>\n",
       "      <td>9.64</td>\n",
       "      <td>2.92</td>\n",
       "      <td>23.87</td>\n",
       "    </tr>\n",
       "    <tr>\n",
       "      <th>14</th>\n",
       "      <td>12.14</td>\n",
       "      <td>1.63</td>\n",
       "      <td>24.80</td>\n",
       "      <td>0.04</td>\n",
       "      <td>0.18</td>\n",
       "    </tr>\n",
       "    <tr>\n",
       "      <th>121</th>\n",
       "      <td>15.91</td>\n",
       "      <td>0.96</td>\n",
       "      <td>8.74</td>\n",
       "      <td>0.18</td>\n",
       "      <td>19.01</td>\n",
       "    </tr>\n",
       "    <tr>\n",
       "      <th>37</th>\n",
       "      <td>40.89</td>\n",
       "      <td>2.99</td>\n",
       "      <td>0.75</td>\n",
       "      <td>1.55</td>\n",
       "      <td>0.00</td>\n",
       "    </tr>\n",
       "    <tr>\n",
       "      <th>91</th>\n",
       "      <td>17.36</td>\n",
       "      <td>34.83</td>\n",
       "      <td>21.91</td>\n",
       "      <td>11.00</td>\n",
       "      <td>22.39</td>\n",
       "    </tr>\n",
       "    <tr>\n",
       "      <th>108</th>\n",
       "      <td>0.10</td>\n",
       "      <td>21.85</td>\n",
       "      <td>34.50</td>\n",
       "      <td>18.89</td>\n",
       "      <td>6.87</td>\n",
       "    </tr>\n",
       "    <tr>\n",
       "      <th>114</th>\n",
       "      <td>8.71</td>\n",
       "      <td>13.35</td>\n",
       "      <td>16.33</td>\n",
       "      <td>4.81</td>\n",
       "      <td>33.08</td>\n",
       "    </tr>\n",
       "    <tr>\n",
       "      <th>106</th>\n",
       "      <td>1.06</td>\n",
       "      <td>2.81</td>\n",
       "      <td>5.26</td>\n",
       "      <td>3.30</td>\n",
       "      <td>33.76</td>\n",
       "    </tr>\n",
       "    <tr>\n",
       "      <th>68</th>\n",
       "      <td>41.48</td>\n",
       "      <td>15.99</td>\n",
       "      <td>21.00</td>\n",
       "      <td>8.18</td>\n",
       "      <td>10.87</td>\n",
       "    </tr>\n",
       "    <tr>\n",
       "      <th>130</th>\n",
       "      <td>1.65</td>\n",
       "      <td>21.44</td>\n",
       "      <td>8.85</td>\n",
       "      <td>35.46</td>\n",
       "      <td>9.24</td>\n",
       "    </tr>\n",
       "    <tr>\n",
       "      <th>17</th>\n",
       "      <td>21.58</td>\n",
       "      <td>31.43</td>\n",
       "      <td>40.60</td>\n",
       "      <td>4.88</td>\n",
       "      <td>3.74</td>\n",
       "    </tr>\n",
       "    <tr>\n",
       "      <th>138</th>\n",
       "      <td>7.11</td>\n",
       "      <td>27.97</td>\n",
       "      <td>20.47</td>\n",
       "      <td>53.84</td>\n",
       "      <td>17.78</td>\n",
       "    </tr>\n",
       "    <tr>\n",
       "      <th>139</th>\n",
       "      <td>0.70</td>\n",
       "      <td>32.26</td>\n",
       "      <td>35.75</td>\n",
       "      <td>17.24</td>\n",
       "      <td>32.95</td>\n",
       "    </tr>\n",
       "    <tr>\n",
       "      <th>40</th>\n",
       "      <td>42.54</td>\n",
       "      <td>14.31</td>\n",
       "      <td>0.52</td>\n",
       "      <td>25.07</td>\n",
       "      <td>0.14</td>\n",
       "    </tr>\n",
       "    <tr>\n",
       "      <th>115</th>\n",
       "      <td>23.23</td>\n",
       "      <td>39.45</td>\n",
       "      <td>32.88</td>\n",
       "      <td>48.25</td>\n",
       "      <td>9.48</td>\n",
       "    </tr>\n",
       "    <tr>\n",
       "      <th>137</th>\n",
       "      <td>21.29</td>\n",
       "      <td>25.38</td>\n",
       "      <td>18.25</td>\n",
       "      <td>24.44</td>\n",
       "      <td>39.44</td>\n",
       "    </tr>\n",
       "    <tr>\n",
       "      <th>127</th>\n",
       "      <td>1.06</td>\n",
       "      <td>44.59</td>\n",
       "      <td>34.22</td>\n",
       "      <td>57.77</td>\n",
       "      <td>0.00</td>\n",
       "    </tr>\n",
       "    <tr>\n",
       "      <th>41</th>\n",
       "      <td>23.24</td>\n",
       "      <td>46.81</td>\n",
       "      <td>37.71</td>\n",
       "      <td>56.83</td>\n",
       "      <td>0.00</td>\n",
       "    </tr>\n",
       "    <tr>\n",
       "      <th>94</th>\n",
       "      <td>21.62</td>\n",
       "      <td>10.18</td>\n",
       "      <td>23.95</td>\n",
       "      <td>70.57</td>\n",
       "      <td>30.47</td>\n",
       "    </tr>\n",
       "    <tr>\n",
       "      <th>119</th>\n",
       "      <td>0.08</td>\n",
       "      <td>64.15</td>\n",
       "      <td>61.75</td>\n",
       "      <td>15.92</td>\n",
       "      <td>6.05</td>\n",
       "    </tr>\n",
       "    <tr>\n",
       "      <th>118</th>\n",
       "      <td>48.66</td>\n",
       "      <td>18.21</td>\n",
       "      <td>91.99</td>\n",
       "      <td>12.42</td>\n",
       "      <td>2.10</td>\n",
       "    </tr>\n",
       "    <tr>\n",
       "      <th>92</th>\n",
       "      <td>36.41</td>\n",
       "      <td>75.08</td>\n",
       "      <td>41.52</td>\n",
       "      <td>50.26</td>\n",
       "      <td>25.40</td>\n",
       "    </tr>\n",
       "    <tr>\n",
       "      <th>16</th>\n",
       "      <td>78.83</td>\n",
       "      <td>45.50</td>\n",
       "      <td>23.93</td>\n",
       "      <td>4.59</td>\n",
       "      <td>29.92</td>\n",
       "    </tr>\n",
       "  </tbody>\n",
       "</table>\n",
       "<p>181 rows × 5 columns</p>\n",
       "</div>"
      ],
      "text/plain": [
       "     TA00020  TA00025  TA00057  TA00066  TA00024\n",
       "311     0.04     0.00     0.00     0.00     0.00\n",
       "303     0.04     0.00     0.00     0.00     0.00\n",
       "299     0.04     0.00     0.00     0.00     0.00\n",
       "287     0.04     0.00     0.00     0.00     0.00\n",
       "241     0.04     0.00     0.00     0.00     0.00\n",
       "85      0.04     0.00     0.00     0.00     0.00\n",
       "155     0.02     0.00     0.00     0.00     0.00\n",
       "10      0.02     0.00     0.00     0.00     0.00\n",
       "300     0.02     0.00     0.00     0.00     0.00\n",
       "285     0.02     0.00     0.00     0.00     0.00\n",
       "279     0.02     0.00     0.00     0.00     0.00\n",
       "154     0.02     0.00     0.00     0.00     0.00\n",
       "8       0.08     0.00     0.00     0.00     0.00\n",
       "189     0.04     0.00     0.00     0.00     0.02\n",
       "46      0.02     0.00     0.00     0.00     0.06\n",
       "103     0.10     0.00     0.00     0.00     0.00\n",
       "310     0.10     0.00     0.00     0.00     0.00\n",
       "31      0.06     0.00     0.00     0.00     0.06\n",
       "151     0.06     0.00     0.00     0.00     0.06\n",
       "73      0.04     0.00     0.00     0.00     0.08\n",
       "156     0.02     0.00     0.00     0.00     0.04\n",
       "30      0.06     0.00     0.00     0.00     0.10\n",
       "202     0.02     0.00     0.00     0.04     0.00\n",
       "201     0.04     0.00     0.00     0.02     0.00\n",
       "183     0.02     0.00     0.00     0.02     0.00\n",
       "133     0.02     0.00     0.00     0.02     0.00\n",
       "58      0.02     0.02     0.00     0.00     0.06\n",
       "34      0.02     0.04     0.00     0.00     0.10\n",
       "123     0.04     0.00     0.00     0.04     0.00\n",
       "354     0.02     0.04     0.00     0.00     0.12\n",
       "..       ...      ...      ...      ...      ...\n",
       "320    17.63     1.82     0.86     0.00    11.09\n",
       "110     9.66     8.12     0.24    13.89     1.48\n",
       "323     8.08    13.54     0.40     0.00    16.48\n",
       "107     1.16     3.83    24.82    11.94     6.23\n",
       "120    20.52     6.86     9.94     9.98     6.12\n",
       "109    12.33    13.25    11.93     9.32    23.01\n",
       "117     2.18     2.92     0.02     9.74    20.28\n",
       "111     9.12     9.04     9.64     2.92    23.87\n",
       "14     12.14     1.63    24.80     0.04     0.18\n",
       "121    15.91     0.96     8.74     0.18    19.01\n",
       "37     40.89     2.99     0.75     1.55     0.00\n",
       "91     17.36    34.83    21.91    11.00    22.39\n",
       "108     0.10    21.85    34.50    18.89     6.87\n",
       "114     8.71    13.35    16.33     4.81    33.08\n",
       "106     1.06     2.81     5.26     3.30    33.76\n",
       "68     41.48    15.99    21.00     8.18    10.87\n",
       "130     1.65    21.44     8.85    35.46     9.24\n",
       "17     21.58    31.43    40.60     4.88     3.74\n",
       "138     7.11    27.97    20.47    53.84    17.78\n",
       "139     0.70    32.26    35.75    17.24    32.95\n",
       "40     42.54    14.31     0.52    25.07     0.14\n",
       "115    23.23    39.45    32.88    48.25     9.48\n",
       "137    21.29    25.38    18.25    24.44    39.44\n",
       "127     1.06    44.59    34.22    57.77     0.00\n",
       "41     23.24    46.81    37.71    56.83     0.00\n",
       "94     21.62    10.18    23.95    70.57    30.47\n",
       "119     0.08    64.15    61.75    15.92     6.05\n",
       "118    48.66    18.21    91.99    12.42     2.10\n",
       "92     36.41    75.08    41.52    50.26    25.40\n",
       "16     78.83    45.50    23.93     4.59    29.92\n",
       "\n",
       "[181 rows x 5 columns]"
      ]
     },
     "execution_count": 50,
     "metadata": {},
     "output_type": "execute_result"
    }
   ],
   "source": [
    "sortedd"
   ]
  },
  {
   "cell_type": "code",
   "execution_count": 5,
   "metadata": {},
   "outputs": [
    {
     "name": "stdout",
     "output_type": "stream",
     "text": [
      "datasource   geojson\t  LICENSE\t   main.py  README.md  services  util\r\n",
      "experiments  __init__.py  localdatasource  model    RQC.py     test\t view\r\n"
     ]
    }
   ],
   "source": [
    "!ls"
   ]
  },
  {
   "cell_type": "code",
   "execution_count": null,
   "metadata": {},
   "outputs": [],
   "source": []
  }
 ],
 "metadata": {
  "kernelspec": {
   "display_name": "Python 2",
   "language": "python",
   "name": "python2"
  },
  "language_info": {
   "codemirror_mode": {
    "name": "ipython",
    "version": 2
   },
   "file_extension": ".py",
   "mimetype": "text/x-python",
   "name": "python",
   "nbconvert_exporter": "python",
   "pygments_lexer": "ipython2",
   "version": "2.7.12"
  }
 },
 "nbformat": 4,
 "nbformat_minor": 1
}
